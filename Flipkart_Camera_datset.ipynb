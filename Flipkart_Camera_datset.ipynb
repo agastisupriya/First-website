{
  "nbformat": 4,
  "nbformat_minor": 0,
  "metadata": {
    "colab": {
      "provenance": [],
      "authorship_tag": "ABX9TyP+O07fGNQDzKTroiXoaun5",
      "include_colab_link": true
    },
    "kernelspec": {
      "name": "python3",
      "display_name": "Python 3"
    },
    "language_info": {
      "name": "python"
    }
  },
  "cells": [
    {
      "cell_type": "markdown",
      "metadata": {
        "id": "view-in-github",
        "colab_type": "text"
      },
      "source": [
        "<a href=\"https://colab.research.google.com/github/agastisupriya/First-website/blob/main/Flipkart_Camera_datset.ipynb\" target=\"_parent\"><img src=\"https://colab.research.google.com/assets/colab-badge.svg\" alt=\"Open In Colab\"/></a>"
      ]
    },
    {
      "cell_type": "code",
      "execution_count": null,
      "metadata": {
        "id": "fimO6gv1_Y4I"
      },
      "outputs": [],
      "source": [
        "import pandas as pd\n",
        "import requests as req\n",
        "from bs4 import BeautifulSoup as bf"
      ]
    },
    {
      "cell_type": "code",
      "source": [
        "Product_name=[]\n",
        "Product_price=[]\n",
        "Product_reating=[]\n",
        "Product_description=[]"
      ],
      "metadata": {
        "id": "bpBnyjXcdskk"
      },
      "execution_count": null,
      "outputs": []
    },
    {
      "cell_type": "code",
      "source": [
        "for i in range(2,9):\n",
        " url='https://www.flipkart.com/search?q=camera+digital+camera&sid=jek%2Cp31&as=on&as-show=on&otracker=AS_QueryStore_OrganicAutoSuggest_2_5_na_na_na&otracker1=AS_QueryStore_OrganicAutoSuggest_2_5_na_na_na&as-pos=2&as-type=RECENT&suggestionId=camera+digital+camera%7CCameras&requestId=1523a403-fff7-420b-99d4-7f4db79af9d7&as-searchtext=camer1&page='+str(i)\n",
        " r=req.get(url)\n",
        " soul=bf(r.text,\"lxml\")\n",
        " n=soul.find('a',class_=\"_1LKTO3\").get('href')\n",
        " n1=\"https://www.flipkart.com\" + n\n",
        " print(n1)"
      ],
      "metadata": {
        "colab": {
          "base_uri": "https://localhost:8080/"
        },
        "id": "09TsQJ81_ujn",
        "outputId": "dc70aa79-627c-4aec-c056-fc420d6b315e"
      },
      "execution_count": null,
      "outputs": [
        {
          "output_type": "stream",
          "name": "stdout",
          "text": [
            "https://www.flipkart.com/search?q=camera+digital+camera&sid=jek%2Cp31&as=on&as-show=on&otracker=AS_QueryStore_OrganicAutoSuggest_2_5_na_na_na&otracker1=AS_QueryStore_OrganicAutoSuggest_2_5_na_na_na&as-pos=2&as-type=RECENT&suggestionId=camera+digital+camera%7CCameras&requestId=1523a403-fff7-420b-99d4-7f4db79af9d7&as-searchtext=camer1&page=1\n",
            "https://www.flipkart.com/search?q=camera+digital+camera&sid=jek%2Cp31&as=on&as-show=on&otracker=AS_QueryStore_OrganicAutoSuggest_2_5_na_na_na&otracker1=AS_QueryStore_OrganicAutoSuggest_2_5_na_na_na&as-pos=2&as-type=RECENT&suggestionId=camera+digital+camera%7CCameras&requestId=1523a403-fff7-420b-99d4-7f4db79af9d7&as-searchtext=camer1&page=2\n",
            "https://www.flipkart.com/search?q=camera+digital+camera&sid=jek%2Cp31&as=on&as-show=on&otracker=AS_QueryStore_OrganicAutoSuggest_2_5_na_na_na&otracker1=AS_QueryStore_OrganicAutoSuggest_2_5_na_na_na&as-pos=2&as-type=RECENT&suggestionId=camera+digital+camera%7CCameras&requestId=1523a403-fff7-420b-99d4-7f4db79af9d7&as-searchtext=camer1&page=3\n",
            "https://www.flipkart.com/search?q=camera+digital+camera&sid=jek%2Cp31&as=on&as-show=on&otracker=AS_QueryStore_OrganicAutoSuggest_2_5_na_na_na&otracker1=AS_QueryStore_OrganicAutoSuggest_2_5_na_na_na&as-pos=2&as-type=RECENT&suggestionId=camera+digital+camera%7CCameras&requestId=1523a403-fff7-420b-99d4-7f4db79af9d7&as-searchtext=camer1&page=4\n",
            "https://www.flipkart.com/search?q=camera+digital+camera&sid=jek%2Cp31&as=on&as-show=on&otracker=AS_QueryStore_OrganicAutoSuggest_2_5_na_na_na&otracker1=AS_QueryStore_OrganicAutoSuggest_2_5_na_na_na&as-pos=2&as-type=RECENT&suggestionId=camera+digital+camera%7CCameras&requestId=1523a403-fff7-420b-99d4-7f4db79af9d7&as-searchtext=camer1&page=5\n",
            "https://www.flipkart.com/search?q=camera+digital+camera&sid=jek%2Cp31&as=on&as-show=on&otracker=AS_QueryStore_OrganicAutoSuggest_2_5_na_na_na&otracker1=AS_QueryStore_OrganicAutoSuggest_2_5_na_na_na&as-pos=2&as-type=RECENT&suggestionId=camera+digital+camera%7CCameras&requestId=1523a403-fff7-420b-99d4-7f4db79af9d7&as-searchtext=camer1&page=6\n",
            "https://www.flipkart.com/search?q=camera+digital+camera&sid=jek%2Cp31&as=on&as-show=on&otracker=AS_QueryStore_OrganicAutoSuggest_2_5_na_na_na&otracker1=AS_QueryStore_OrganicAutoSuggest_2_5_na_na_na&as-pos=2&as-type=RECENT&suggestionId=camera+digital+camera%7CCameras&requestId=1523a403-fff7-420b-99d4-7f4db79af9d7&as-searchtext=camer1&page=7\n"
          ]
        }
      ]
    },
    {
      "cell_type": "code",
      "source": [
        "url1='https://www.flipkart.com/search?q=camera+digital+camera&sid=jek%2Cp31&as=on&as-show=on&otracker=AS_QueryStore_OrganicAutoSuggest_2_5_na_na_na&otracker1=AS_QueryStore_OrganicAutoSuggest_2_5_na_na_na&as-pos=2&as-type=RECENT&suggestionId=camera+digital+camera%7CCameras&requestId=1523a403-fff7-420b-99d4-7f4db79af9d7&as-searchtext=camer1&page='\n",
        "r1=req.get(url1)\n",
        "soul=bf(r1.text,\"lxml\")"
      ],
      "metadata": {
        "id": "3775r8F4EXji"
      },
      "execution_count": null,
      "outputs": []
    },
    {
      "cell_type": "code",
      "source": [
        "names=soul.find_all('div',class_=\"_30jeq3 _1_WHN1\")"
      ],
      "metadata": {
        "id": "XQj4nH2rdQ3J"
      },
      "execution_count": null,
      "outputs": []
    },
    {
      "cell_type": "code",
      "source": [
        "for i in names:\n",
        "  name=i.text\n",
        "  Product_price.append(name)"
      ],
      "metadata": {
        "id": "IMtfGwWXfeR6"
      },
      "execution_count": null,
      "outputs": []
    },
    {
      "cell_type": "code",
      "source": [
        "Product_price=Product_price[0:20]"
      ],
      "metadata": {
        "id": "t5bzYZFrffdH"
      },
      "execution_count": null,
      "outputs": []
    },
    {
      "cell_type": "code",
      "source": [
        "names=soul.find_all('div',class_=\"_4rR01T\")"
      ],
      "metadata": {
        "id": "myZOlVsPkqI-"
      },
      "execution_count": null,
      "outputs": []
    },
    {
      "cell_type": "code",
      "source": [
        "for i in names:\n",
        "  name=i.text\n",
        "  Product_name.append(name)"
      ],
      "metadata": {
        "id": "iSy1D566kqLx"
      },
      "execution_count": null,
      "outputs": []
    },
    {
      "cell_type": "code",
      "source": [
        "Product_name=Product_name[0:20]"
      ],
      "metadata": {
        "id": "CGvJwJBRkqO8"
      },
      "execution_count": null,
      "outputs": []
    },
    {
      "cell_type": "code",
      "source": [
        "len(Product_name)"
      ],
      "metadata": {
        "colab": {
          "base_uri": "https://localhost:8080/"
        },
        "id": "OKyZdFTmosYT",
        "outputId": "2f0345d1-4359-4aae-8441-4644894c680a"
      },
      "execution_count": null,
      "outputs": [
        {
          "output_type": "execute_result",
          "data": {
            "text/plain": [
              "20"
            ]
          },
          "metadata": {},
          "execution_count": 101
        }
      ]
    },
    {
      "cell_type": "code",
      "source": [
        "review=soul.find_all('span',class_=\"_2_R_DZ\")[0]"
      ],
      "metadata": {
        "id": "1sgthWpXiVYm"
      },
      "execution_count": null,
      "outputs": []
    },
    {
      "cell_type": "code",
      "source": [
        "for i in review:\n",
        "  name=i.text\n",
        "  Product_description.append(name)"
      ],
      "metadata": {
        "id": "VQxApVZViV8r"
      },
      "execution_count": null,
      "outputs": []
    },
    {
      "cell_type": "code",
      "source": [
        "Product_description=Product_description[0:20]"
      ],
      "metadata": {
        "id": "HDp-vBWEiWL8"
      },
      "execution_count": null,
      "outputs": []
    },
    {
      "cell_type": "code",
      "source": [
        "len(Product_description)"
      ],
      "metadata": {
        "colab": {
          "base_uri": "https://localhost:8080/"
        },
        "id": "xE8PvUzCozGK",
        "outputId": "74b64f91-2ee6-42e2-ac82-572bcc51f026"
      },
      "execution_count": null,
      "outputs": [
        {
          "output_type": "execute_result",
          "data": {
            "text/plain": [
              "3"
            ]
          },
          "metadata": {},
          "execution_count": 105
        }
      ]
    },
    {
      "cell_type": "code",
      "source": [
        "rating=soul.find_all('div',class_=\"_3LWZlK\")"
      ],
      "metadata": {
        "id": "OwRRD5xWg0dj"
      },
      "execution_count": null,
      "outputs": []
    },
    {
      "cell_type": "code",
      "source": [
        "for i in rating:\n",
        "  name=i.text\n",
        "  Product_reating.append(name)"
      ],
      "metadata": {
        "id": "Io5LJ9O1hYNK"
      },
      "execution_count": null,
      "outputs": []
    },
    {
      "cell_type": "code",
      "source": [
        "Product_reating=Product_reating[0:20]"
      ],
      "metadata": {
        "id": "HhDR6Hudnkf_"
      },
      "execution_count": null,
      "outputs": []
    },
    {
      "cell_type": "code",
      "source": [
        "len(Product_reating)"
      ],
      "metadata": {
        "colab": {
          "base_uri": "https://localhost:8080/"
        },
        "id": "nalIOVCEhZyH",
        "outputId": "54b097fa-80fa-4885-aed1-24bff455fae1"
      },
      "execution_count": null,
      "outputs": [
        {
          "output_type": "execute_result",
          "data": {
            "text/plain": [
              "20"
            ]
          },
          "metadata": {},
          "execution_count": 109
        }
      ]
    },
    {
      "cell_type": "code",
      "source": [
        "df=pd.DataFrame({'name':Product_name,\n",
        "    'rating':Product_reating,\n",
        "    # 'reviews':Product_description,\n",
        "    'Product_price':Product_price,\n",
        "    })"
      ],
      "metadata": {
        "id": "WprGHy3dhwGK"
      },
      "execution_count": null,
      "outputs": []
    },
    {
      "cell_type": "code",
      "source": [
        "df"
      ],
      "metadata": {
        "colab": {
          "base_uri": "https://localhost:8080/",
          "height": 580
        },
        "id": "bR_W1GVilpI_",
        "outputId": "3092a0d3-f7f0-4be2-ec43-cb5786bc1109"
      },
      "execution_count": null,
      "outputs": [
        {
          "output_type": "execute_result",
          "data": {
            "text/plain": [
              "                                                 name rating Product_price\n",
              "0   TinyTales Kids Digital Camera, Web Camera for ...    4.1        ₹3,458\n",
              "1   TinyTales Kids Digital Camera, Web Camera for ...    4.4        ₹2,858\n",
              "2   SONY ZV-1F Vlog Camera for Content Creators an...    3.1       ₹46,990\n",
              "3                         SONY Cyber-shot DSC-RX100M3    4.4       ₹50,990\n",
              "4                         SONY CyberShot DSC-RX100M5A    2.6       ₹65,990\n",
              "5                        Panasonic Lumix DMC-FZ2500GA    3.4       ₹68,990\n",
              "6                        Panasonic Lumix DC-FZ10002GW    3.9       ₹63,999\n",
              "7   Canon EOS 3000D DSLR Camera 1 Camera Body, 18 ...      5       ₹33,490\n",
              "8   AVOIHS Gift toys Baby Gift HD 8MP Video Digita...    3.3          ₹899\n",
              "9   AVOIHS Gift toys High Pixel HD Recording Selfi...    3.9          ₹899\n",
              "10  CALLIE 4K 4KACTION CAMERA FULL HD Sports and A...      4        ₹1,629\n",
              "11  AVOIHS Gift toys HD 8MP Video Digital Sports C...      1          ₹899\n",
              "12  Uvasaggaharam Kids Digital Camera/Video Record...      3          ₹743\n",
              "13  Uvasaggaharam Digital Camera + Video Recorder ...      1          ₹940\n",
              "14                     SONY CyberShot DSC-W800/BC IN5      1        ₹6,990\n",
              "15                                Canon PowerShot V10      5       ₹37,490\n",
              "16  Ricoh Theta Theta X 360 Degree Camera 5.7K Vid...      5       ₹69,995\n",
              "17                        Ricoh GRIIIx Digital Camera      5       ₹92,199\n",
              "18                         Ricoh GRIII Digital Camera    4.1       ₹84,499\n",
              "19                         Ricoh GR III Diary Edition      3       ₹88,999"
            ],
            "text/html": [
              "\n",
              "  <div id=\"df-972a89ff-f117-4591-9b1a-6e54f15e18c2\" class=\"colab-df-container\">\n",
              "    <div>\n",
              "<style scoped>\n",
              "    .dataframe tbody tr th:only-of-type {\n",
              "        vertical-align: middle;\n",
              "    }\n",
              "\n",
              "    .dataframe tbody tr th {\n",
              "        vertical-align: top;\n",
              "    }\n",
              "\n",
              "    .dataframe thead th {\n",
              "        text-align: right;\n",
              "    }\n",
              "</style>\n",
              "<table border=\"1\" class=\"dataframe\">\n",
              "  <thead>\n",
              "    <tr style=\"text-align: right;\">\n",
              "      <th></th>\n",
              "      <th>name</th>\n",
              "      <th>rating</th>\n",
              "      <th>Product_price</th>\n",
              "    </tr>\n",
              "  </thead>\n",
              "  <tbody>\n",
              "    <tr>\n",
              "      <th>0</th>\n",
              "      <td>TinyTales Kids Digital Camera, Web Camera for ...</td>\n",
              "      <td>4.1</td>\n",
              "      <td>₹3,458</td>\n",
              "    </tr>\n",
              "    <tr>\n",
              "      <th>1</th>\n",
              "      <td>TinyTales Kids Digital Camera, Web Camera for ...</td>\n",
              "      <td>4.4</td>\n",
              "      <td>₹2,858</td>\n",
              "    </tr>\n",
              "    <tr>\n",
              "      <th>2</th>\n",
              "      <td>SONY ZV-1F Vlog Camera for Content Creators an...</td>\n",
              "      <td>3.1</td>\n",
              "      <td>₹46,990</td>\n",
              "    </tr>\n",
              "    <tr>\n",
              "      <th>3</th>\n",
              "      <td>SONY Cyber-shot DSC-RX100M3</td>\n",
              "      <td>4.4</td>\n",
              "      <td>₹50,990</td>\n",
              "    </tr>\n",
              "    <tr>\n",
              "      <th>4</th>\n",
              "      <td>SONY CyberShot DSC-RX100M5A</td>\n",
              "      <td>2.6</td>\n",
              "      <td>₹65,990</td>\n",
              "    </tr>\n",
              "    <tr>\n",
              "      <th>5</th>\n",
              "      <td>Panasonic Lumix DMC-FZ2500GA</td>\n",
              "      <td>3.4</td>\n",
              "      <td>₹68,990</td>\n",
              "    </tr>\n",
              "    <tr>\n",
              "      <th>6</th>\n",
              "      <td>Panasonic Lumix DC-FZ10002GW</td>\n",
              "      <td>3.9</td>\n",
              "      <td>₹63,999</td>\n",
              "    </tr>\n",
              "    <tr>\n",
              "      <th>7</th>\n",
              "      <td>Canon EOS 3000D DSLR Camera 1 Camera Body, 18 ...</td>\n",
              "      <td>5</td>\n",
              "      <td>₹33,490</td>\n",
              "    </tr>\n",
              "    <tr>\n",
              "      <th>8</th>\n",
              "      <td>AVOIHS Gift toys Baby Gift HD 8MP Video Digita...</td>\n",
              "      <td>3.3</td>\n",
              "      <td>₹899</td>\n",
              "    </tr>\n",
              "    <tr>\n",
              "      <th>9</th>\n",
              "      <td>AVOIHS Gift toys High Pixel HD Recording Selfi...</td>\n",
              "      <td>3.9</td>\n",
              "      <td>₹899</td>\n",
              "    </tr>\n",
              "    <tr>\n",
              "      <th>10</th>\n",
              "      <td>CALLIE 4K 4KACTION CAMERA FULL HD Sports and A...</td>\n",
              "      <td>4</td>\n",
              "      <td>₹1,629</td>\n",
              "    </tr>\n",
              "    <tr>\n",
              "      <th>11</th>\n",
              "      <td>AVOIHS Gift toys HD 8MP Video Digital Sports C...</td>\n",
              "      <td>1</td>\n",
              "      <td>₹899</td>\n",
              "    </tr>\n",
              "    <tr>\n",
              "      <th>12</th>\n",
              "      <td>Uvasaggaharam Kids Digital Camera/Video Record...</td>\n",
              "      <td>3</td>\n",
              "      <td>₹743</td>\n",
              "    </tr>\n",
              "    <tr>\n",
              "      <th>13</th>\n",
              "      <td>Uvasaggaharam Digital Camera + Video Recorder ...</td>\n",
              "      <td>1</td>\n",
              "      <td>₹940</td>\n",
              "    </tr>\n",
              "    <tr>\n",
              "      <th>14</th>\n",
              "      <td>SONY CyberShot DSC-W800/BC IN5</td>\n",
              "      <td>1</td>\n",
              "      <td>₹6,990</td>\n",
              "    </tr>\n",
              "    <tr>\n",
              "      <th>15</th>\n",
              "      <td>Canon PowerShot V10</td>\n",
              "      <td>5</td>\n",
              "      <td>₹37,490</td>\n",
              "    </tr>\n",
              "    <tr>\n",
              "      <th>16</th>\n",
              "      <td>Ricoh Theta Theta X 360 Degree Camera 5.7K Vid...</td>\n",
              "      <td>5</td>\n",
              "      <td>₹69,995</td>\n",
              "    </tr>\n",
              "    <tr>\n",
              "      <th>17</th>\n",
              "      <td>Ricoh GRIIIx Digital Camera</td>\n",
              "      <td>5</td>\n",
              "      <td>₹92,199</td>\n",
              "    </tr>\n",
              "    <tr>\n",
              "      <th>18</th>\n",
              "      <td>Ricoh GRIII Digital Camera</td>\n",
              "      <td>4.1</td>\n",
              "      <td>₹84,499</td>\n",
              "    </tr>\n",
              "    <tr>\n",
              "      <th>19</th>\n",
              "      <td>Ricoh GR III Diary Edition</td>\n",
              "      <td>3</td>\n",
              "      <td>₹88,999</td>\n",
              "    </tr>\n",
              "  </tbody>\n",
              "</table>\n",
              "</div>\n",
              "    <div class=\"colab-df-buttons\">\n",
              "\n",
              "  <div class=\"colab-df-container\">\n",
              "    <button class=\"colab-df-convert\" onclick=\"convertToInteractive('df-972a89ff-f117-4591-9b1a-6e54f15e18c2')\"\n",
              "            title=\"Convert this dataframe to an interactive table.\"\n",
              "            style=\"display:none;\">\n",
              "\n",
              "  <svg xmlns=\"http://www.w3.org/2000/svg\" height=\"24px\" viewBox=\"0 -960 960 960\">\n",
              "    <path d=\"M120-120v-720h720v720H120Zm60-500h600v-160H180v160Zm220 220h160v-160H400v160Zm0 220h160v-160H400v160ZM180-400h160v-160H180v160Zm440 0h160v-160H620v160ZM180-180h160v-160H180v160Zm440 0h160v-160H620v160Z\"/>\n",
              "  </svg>\n",
              "    </button>\n",
              "\n",
              "  <style>\n",
              "    .colab-df-container {\n",
              "      display:flex;\n",
              "      gap: 12px;\n",
              "    }\n",
              "\n",
              "    .colab-df-convert {\n",
              "      background-color: #E8F0FE;\n",
              "      border: none;\n",
              "      border-radius: 50%;\n",
              "      cursor: pointer;\n",
              "      display: none;\n",
              "      fill: #1967D2;\n",
              "      height: 32px;\n",
              "      padding: 0 0 0 0;\n",
              "      width: 32px;\n",
              "    }\n",
              "\n",
              "    .colab-df-convert:hover {\n",
              "      background-color: #E2EBFA;\n",
              "      box-shadow: 0px 1px 2px rgba(60, 64, 67, 0.3), 0px 1px 3px 1px rgba(60, 64, 67, 0.15);\n",
              "      fill: #174EA6;\n",
              "    }\n",
              "\n",
              "    .colab-df-buttons div {\n",
              "      margin-bottom: 4px;\n",
              "    }\n",
              "\n",
              "    [theme=dark] .colab-df-convert {\n",
              "      background-color: #3B4455;\n",
              "      fill: #D2E3FC;\n",
              "    }\n",
              "\n",
              "    [theme=dark] .colab-df-convert:hover {\n",
              "      background-color: #434B5C;\n",
              "      box-shadow: 0px 1px 3px 1px rgba(0, 0, 0, 0.15);\n",
              "      filter: drop-shadow(0px 1px 2px rgba(0, 0, 0, 0.3));\n",
              "      fill: #FFFFFF;\n",
              "    }\n",
              "  </style>\n",
              "\n",
              "    <script>\n",
              "      const buttonEl =\n",
              "        document.querySelector('#df-972a89ff-f117-4591-9b1a-6e54f15e18c2 button.colab-df-convert');\n",
              "      buttonEl.style.display =\n",
              "        google.colab.kernel.accessAllowed ? 'block' : 'none';\n",
              "\n",
              "      async function convertToInteractive(key) {\n",
              "        const element = document.querySelector('#df-972a89ff-f117-4591-9b1a-6e54f15e18c2');\n",
              "        const dataTable =\n",
              "          await google.colab.kernel.invokeFunction('convertToInteractive',\n",
              "                                                    [key], {});\n",
              "        if (!dataTable) return;\n",
              "\n",
              "        const docLinkHtml = 'Like what you see? Visit the ' +\n",
              "          '<a target=\"_blank\" href=https://colab.research.google.com/notebooks/data_table.ipynb>data table notebook</a>'\n",
              "          + ' to learn more about interactive tables.';\n",
              "        element.innerHTML = '';\n",
              "        dataTable['output_type'] = 'display_data';\n",
              "        await google.colab.output.renderOutput(dataTable, element);\n",
              "        const docLink = document.createElement('div');\n",
              "        docLink.innerHTML = docLinkHtml;\n",
              "        element.appendChild(docLink);\n",
              "      }\n",
              "    </script>\n",
              "  </div>\n",
              "\n",
              "\n",
              "<div id=\"df-25d8ba5d-69a7-4a4e-8bea-919bd09fb0d5\">\n",
              "  <button class=\"colab-df-quickchart\" onclick=\"quickchart('df-25d8ba5d-69a7-4a4e-8bea-919bd09fb0d5')\"\n",
              "            title=\"Suggest charts.\"\n",
              "            style=\"display:none;\">\n",
              "\n",
              "<svg xmlns=\"http://www.w3.org/2000/svg\" height=\"24px\"viewBox=\"0 0 24 24\"\n",
              "     width=\"24px\">\n",
              "    <g>\n",
              "        <path d=\"M19 3H5c-1.1 0-2 .9-2 2v14c0 1.1.9 2 2 2h14c1.1 0 2-.9 2-2V5c0-1.1-.9-2-2-2zM9 17H7v-7h2v7zm4 0h-2V7h2v10zm4 0h-2v-4h2v4z\"/>\n",
              "    </g>\n",
              "</svg>\n",
              "  </button>\n",
              "\n",
              "<style>\n",
              "  .colab-df-quickchart {\n",
              "      --bg-color: #E8F0FE;\n",
              "      --fill-color: #1967D2;\n",
              "      --hover-bg-color: #E2EBFA;\n",
              "      --hover-fill-color: #174EA6;\n",
              "      --disabled-fill-color: #AAA;\n",
              "      --disabled-bg-color: #DDD;\n",
              "  }\n",
              "\n",
              "  [theme=dark] .colab-df-quickchart {\n",
              "      --bg-color: #3B4455;\n",
              "      --fill-color: #D2E3FC;\n",
              "      --hover-bg-color: #434B5C;\n",
              "      --hover-fill-color: #FFFFFF;\n",
              "      --disabled-bg-color: #3B4455;\n",
              "      --disabled-fill-color: #666;\n",
              "  }\n",
              "\n",
              "  .colab-df-quickchart {\n",
              "    background-color: var(--bg-color);\n",
              "    border: none;\n",
              "    border-radius: 50%;\n",
              "    cursor: pointer;\n",
              "    display: none;\n",
              "    fill: var(--fill-color);\n",
              "    height: 32px;\n",
              "    padding: 0;\n",
              "    width: 32px;\n",
              "  }\n",
              "\n",
              "  .colab-df-quickchart:hover {\n",
              "    background-color: var(--hover-bg-color);\n",
              "    box-shadow: 0 1px 2px rgba(60, 64, 67, 0.3), 0 1px 3px 1px rgba(60, 64, 67, 0.15);\n",
              "    fill: var(--button-hover-fill-color);\n",
              "  }\n",
              "\n",
              "  .colab-df-quickchart-complete:disabled,\n",
              "  .colab-df-quickchart-complete:disabled:hover {\n",
              "    background-color: var(--disabled-bg-color);\n",
              "    fill: var(--disabled-fill-color);\n",
              "    box-shadow: none;\n",
              "  }\n",
              "\n",
              "  .colab-df-spinner {\n",
              "    border: 2px solid var(--fill-color);\n",
              "    border-color: transparent;\n",
              "    border-bottom-color: var(--fill-color);\n",
              "    animation:\n",
              "      spin 1s steps(1) infinite;\n",
              "  }\n",
              "\n",
              "  @keyframes spin {\n",
              "    0% {\n",
              "      border-color: transparent;\n",
              "      border-bottom-color: var(--fill-color);\n",
              "      border-left-color: var(--fill-color);\n",
              "    }\n",
              "    20% {\n",
              "      border-color: transparent;\n",
              "      border-left-color: var(--fill-color);\n",
              "      border-top-color: var(--fill-color);\n",
              "    }\n",
              "    30% {\n",
              "      border-color: transparent;\n",
              "      border-left-color: var(--fill-color);\n",
              "      border-top-color: var(--fill-color);\n",
              "      border-right-color: var(--fill-color);\n",
              "    }\n",
              "    40% {\n",
              "      border-color: transparent;\n",
              "      border-right-color: var(--fill-color);\n",
              "      border-top-color: var(--fill-color);\n",
              "    }\n",
              "    60% {\n",
              "      border-color: transparent;\n",
              "      border-right-color: var(--fill-color);\n",
              "    }\n",
              "    80% {\n",
              "      border-color: transparent;\n",
              "      border-right-color: var(--fill-color);\n",
              "      border-bottom-color: var(--fill-color);\n",
              "    }\n",
              "    90% {\n",
              "      border-color: transparent;\n",
              "      border-bottom-color: var(--fill-color);\n",
              "    }\n",
              "  }\n",
              "</style>\n",
              "\n",
              "  <script>\n",
              "    async function quickchart(key) {\n",
              "      const quickchartButtonEl =\n",
              "        document.querySelector('#' + key + ' button');\n",
              "      quickchartButtonEl.disabled = true;  // To prevent multiple clicks.\n",
              "      quickchartButtonEl.classList.add('colab-df-spinner');\n",
              "      try {\n",
              "        const charts = await google.colab.kernel.invokeFunction(\n",
              "            'suggestCharts', [key], {});\n",
              "      } catch (error) {\n",
              "        console.error('Error during call to suggestCharts:', error);\n",
              "      }\n",
              "      quickchartButtonEl.classList.remove('colab-df-spinner');\n",
              "      quickchartButtonEl.classList.add('colab-df-quickchart-complete');\n",
              "    }\n",
              "    (() => {\n",
              "      let quickchartButtonEl =\n",
              "        document.querySelector('#df-25d8ba5d-69a7-4a4e-8bea-919bd09fb0d5 button');\n",
              "      quickchartButtonEl.style.display =\n",
              "        google.colab.kernel.accessAllowed ? 'block' : 'none';\n",
              "    })();\n",
              "  </script>\n",
              "</div>\n",
              "    </div>\n",
              "  </div>\n"
            ]
          },
          "metadata": {},
          "execution_count": 111
        },
        {
          "output_type": "stream",
          "name": "stdout",
          "text": [
            "No charts were generated by quickchart\n"
          ]
        }
      ]
    },
    {
      "cell_type": "code",
      "source": [],
      "metadata": {
        "id": "5MBBScTrpD3A"
      },
      "execution_count": null,
      "outputs": []
    }
  ]
}